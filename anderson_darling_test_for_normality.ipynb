{
 "cells": [
  {
   "cell_type": "markdown",
   "metadata": {
    "collapsed": true
   },
   "source": [
    "##Quantitative Tests of Normalitiy Using The Anderson-Darling Statistic\n"
   ]
  },
  {
   "cell_type": "code",
   "execution_count": 2,
   "metadata": {
    "collapsed": true
   },
   "outputs": [],
   "source": [
    "%matplotlib inline\n",
    "import numpy as np\n",
    "import scipy.stats as stats\n",
    "import matplotlib.pyplot as plt\n",
    "import pandas as pd\n",
    "import math as math"
   ]
  },
  {
   "cell_type": "markdown",
   "metadata": {},
   "source": [
    "### Anderson-Darling\n",
    "The Anderson-Darling statistical test is based on the quadradic empirical distribution function. The test statistic is an estimate of the distance between the normal cumulative distribution function (CDF) and the empirical (sample) distribution function. The distance is the integral over the real line of the weighted squared distance between the two CFSs and the integral is with respect to the hypothesized CDF.\n",
    "\n",
    "The distance can be estimated by a sum over the samples using the assumtion that the frequency of the data follows a Uniform distribution. \n",
    "\n",
    "The function below calculates this estimate."
   ]
  },
  {
   "cell_type": "code",
   "execution_count": 3,
   "metadata": {},
   "outputs": [],
   "source": [
    "def my_anderson_darling(x):\n",
    "    n = len(x)\n",
    "    ys = np.sort(x)  # sort the data from low to high\n",
    "    y = (ys - np.mean(x))/np.std(x)  # standardize the data\n",
    "    S = 0  # accumulate \n",
    "    for i in range(1, n+1):\n",
    "        t1 = math.log(stats.norm.cdf(y[i-1]))\n",
    "        t2 = math.log(1 - stats.norm.cdf(y[n-i]))\n",
    "        S += (2*i-1) * (t1 + t2)\n",
    "    a2 = -n - S/n\n",
    "    return a2"
   ]
  },
  {
   "cell_type": "code",
   "execution_count": 4,
   "metadata": {},
   "outputs": [
    {
     "data": {
      "text/plain": [
       "0.2970629092494761"
      ]
     },
     "execution_count": 3,
     "metadata": {},
     "output_type": "execute_result"
    }
   ],
   "source": [
    "np.random.seed(12345)\n",
    "mu = 0.0  # mean\n",
    "sigma = 2.0  # standard deviation\n",
    "x_from_normal = np.random.normal(mu, sigma, 100)  # generate an array of random numbers \n",
    "my_anderson_darling(x_from_normal)  # compute the statistic on the normal data"
   ]
  },
  {
   "cell_type": "markdown",
   "metadata": {},
   "source": [
    "###Scipy's Anderson-Darling\n",
    "\n",
    "scipy contains an efficient version of Anderson-Darling and it also computes a table of the critical values and significance levels of the statistic.\n",
    "\n",
    "The example below calculates the statistic on our normal data and then displays a table of critical values and significance levels."
   ]
  },
  {
   "cell_type": "code",
   "execution_count": 5,
   "metadata": {},
   "outputs": [
    {
     "name": "stdout",
     "output_type": "stream",
     "text": [
      "Anderson-Darling statistic: 0.299393489776\n"
     ]
    },
    {
     "data": {
      "text/html": [
       "<div>\n",
       "<table border=\"1\" class=\"dataframe\">\n",
       "  <thead>\n",
       "    <tr style=\"text-align: right;\">\n",
       "      <th></th>\n",
       "      <th>critical value</th>\n",
       "      <th>significance</th>\n",
       "    </tr>\n",
       "  </thead>\n",
       "  <tbody>\n",
       "    <tr>\n",
       "      <th>0</th>\n",
       "      <td>0.555</td>\n",
       "      <td>15.0</td>\n",
       "    </tr>\n",
       "    <tr>\n",
       "      <th>1</th>\n",
       "      <td>0.632</td>\n",
       "      <td>10.0</td>\n",
       "    </tr>\n",
       "    <tr>\n",
       "      <th>2</th>\n",
       "      <td>0.759</td>\n",
       "      <td>5.0</td>\n",
       "    </tr>\n",
       "    <tr>\n",
       "      <th>3</th>\n",
       "      <td>0.885</td>\n",
       "      <td>2.5</td>\n",
       "    </tr>\n",
       "    <tr>\n",
       "      <th>4</th>\n",
       "      <td>1.053</td>\n",
       "      <td>1.0</td>\n",
       "    </tr>\n",
       "  </tbody>\n",
       "</table>\n",
       "</div>"
      ],
      "text/plain": [
       "<div>\n",
       "<table border=\"1\" class=\"dataframe\">\n",
       "  <thead>\n",
       "    <tr style=\"text-align: right;\">\n",
       "      <th></th>\n",
       "      <th>critical value</th>\n",
       "      <th>significance</th>\n",
       "    </tr>\n",
       "  </thead>\n",
       "  <tbody>\n",
       "    <tr>\n",
       "      <th>0</th>\n",
       "      <td>0.555</td>\n",
       "      <td>15.0</td>\n",
       "    </tr>\n",
       "    <tr>\n",
       "      <th>1</th>\n",
       "      <td>0.632</td>\n",
       "      <td>10.0</td>\n",
       "    </tr>\n",
       "    <tr>\n",
       "      <th>2</th>\n",
       "      <td>0.759</td>\n",
       "      <td>5.0</td>\n",
       "    </tr>\n",
       "    <tr>\n",
       "      <th>3</th>\n",
       "      <td>0.885</td>\n",
       "      <td>2.5</td>\n",
       "    </tr>\n",
       "    <tr>\n",
       "      <th>4</th>\n",
       "      <td>1.053</td>\n",
       "      <td>1.0</td>\n",
       "    </tr>\n",
       "  </tbody>\n",
       "</table>\n",
       "</div>"
      ]
     },
     "execution_count": 4,
     "metadata": {},
     "output_type": "execute_result"
    }
   ],
   "source": [
    "ar = stats.anderson(x_from_normal, 'norm')  # use scipy's anderson-darling test for a normal distribution\n",
    "print('Anderson-Darling statistic:', ar.statistic)\n",
    "pd.DataFrame({'critical value': ar.critical_values, 'significance': ar.significance_level})"
   ]
  },
  {
   "cell_type": "markdown",
   "metadata": {},
   "source": [
    "### Testing Anderson-Darling On Normal Data\n",
    "In the following experiment we will test the statistic computed by the Anderson-Darling function on normal data. We will generate many normal data sets and count the number of times the Anderson-Darling statistic rejects the normality of the data. This rejection rate should match the significance of the test at a specific critical value. The critical values and levels of significance are as show in the table above."
   ]
  },
  {
   "cell_type": "code",
   "execution_count": 6,
   "metadata": {},
   "outputs": [],
   "source": [
    "def test_anderson_darling_on_normal(n_set, n_sample):\n",
    "    ar_stats = np.zeros(n_set)  # hold the anderson-darling statistics here\n",
    "    for i in range(n_set):\n",
    "        x = np.random.normal(0, 1, n_sample)  # generate a set of normal random numbers\n",
    "        ad = stats.anderson(x, 'norm')  # compute the statistic on the set\n",
    "        ar_stats[i] = ad.statistic\n",
    "    return ar_stats, ad.critical_values, ad.significance_level"
   ]
  },
  {
   "cell_type": "code",
   "execution_count": 7,
   "metadata": {},
   "outputs": [
    {
     "data": {
      "text/html": [
       "<div>\n",
       "<table border=\"1\" class=\"dataframe\">\n",
       "  <thead>\n",
       "    <tr style=\"text-align: right;\">\n",
       "      <th></th>\n",
       "      <th>critical value</th>\n",
       "      <th>rejection rate</th>\n",
       "      <th>significance</th>\n",
       "    </tr>\n",
       "  </thead>\n",
       "  <tbody>\n",
       "    <tr>\n",
       "      <th>0</th>\n",
       "      <td>0.574</td>\n",
       "      <td>15.9</td>\n",
       "      <td>15.0</td>\n",
       "    </tr>\n",
       "    <tr>\n",
       "      <th>1</th>\n",
       "      <td>0.653</td>\n",
       "      <td>11.1</td>\n",
       "      <td>10.0</td>\n",
       "    </tr>\n",
       "    <tr>\n",
       "      <th>2</th>\n",
       "      <td>0.784</td>\n",
       "      <td>5.4</td>\n",
       "      <td>5.0</td>\n",
       "    </tr>\n",
       "    <tr>\n",
       "      <th>3</th>\n",
       "      <td>0.914</td>\n",
       "      <td>2.8</td>\n",
       "      <td>2.5</td>\n",
       "    </tr>\n",
       "    <tr>\n",
       "      <th>4</th>\n",
       "      <td>1.088</td>\n",
       "      <td>1.4</td>\n",
       "      <td>1.0</td>\n",
       "    </tr>\n",
       "  </tbody>\n",
       "</table>\n",
       "</div>"
      ],
      "text/plain": [
       "<div>\n",
       "<table border=\"1\" class=\"dataframe\">\n",
       "  <thead>\n",
       "    <tr style=\"text-align: right;\">\n",
       "      <th></th>\n",
       "      <th>critical value</th>\n",
       "      <th>rejection rate</th>\n",
       "      <th>significance</th>\n",
       "    </tr>\n",
       "  </thead>\n",
       "  <tbody>\n",
       "    <tr>\n",
       "      <th>0</th>\n",
       "      <td>0.574</td>\n",
       "      <td>15.9</td>\n",
       "      <td>15.0</td>\n",
       "    </tr>\n",
       "    <tr>\n",
       "      <th>1</th>\n",
       "      <td>0.653</td>\n",
       "      <td>11.1</td>\n",
       "      <td>10.0</td>\n",
       "    </tr>\n",
       "    <tr>\n",
       "      <th>2</th>\n",
       "      <td>0.784</td>\n",
       "      <td>5.4</td>\n",
       "      <td>5.0</td>\n",
       "    </tr>\n",
       "    <tr>\n",
       "      <th>3</th>\n",
       "      <td>0.914</td>\n",
       "      <td>2.8</td>\n",
       "      <td>2.5</td>\n",
       "    </tr>\n",
       "    <tr>\n",
       "      <th>4</th>\n",
       "      <td>1.088</td>\n",
       "      <td>1.4</td>\n",
       "      <td>1.0</td>\n",
       "    </tr>\n",
       "  </tbody>\n",
       "</table>\n",
       "</div>"
      ]
     },
     "execution_count": 6,
     "metadata": {},
     "output_type": "execute_result"
    }
   ],
   "source": [
    "np.random.seed(123456)\n",
    "ar_stats, critical_vals, sig_levels = test_anderson_darling_on_normal(1000, 1000)\n",
    "rejection_rate = np.zeros(len(ar.critical_values))\n",
    "for i in range(len(ar.critical_values)):\n",
    "    rejection_rate[i] = sum(ar_stats > ar.critical_values[i]) / len(ar_stats) * 100\n",
    "pd.DataFrame({'critical value': critical_vals, 'significance': sig_levels, 'rejection rate': rejection_rate})"
   ]
  },
  {
   "cell_type": "markdown",
   "metadata": {},
   "source": [
    "###Anderson-Darling Test with Non-normal Data\n",
    "We will generate data from three other non-normal distributions and compute the Anderson-Darling statistic on these data sets. The computed statistics show that the normal distribution is an unlikely hypothesis for the other distributions."
   ]
  },
  {
   "cell_type": "code",
   "execution_count": 8,
   "metadata": {},
   "outputs": [],
   "source": [
    "n_sample = 1000\n",
    "mu = 0\n",
    "sigma = 1\n",
    "y1 = np.random.normal(mu, sigma, n_sample)\n",
    "y2 = np.random.laplace(mu, sigma, n_sample)\n",
    "y3 = np.random.standard_cauchy(n_sample)\n",
    "y4 = np.random.lognormal(mu, sigma, n_sample)"
   ]
  },
  {
   "cell_type": "code",
   "execution_count": 9,
   "metadata": {},
   "outputs": [
    {
     "data": {
      "image/png": "[encoded data removed]",
      "text/plain": [
       "<matplotlib.figure.Figure at 0x115d709e8>"
      ]
     },
     "metadata": {},
     "output_type": "display_data"
    },
    {
     "data": {
      "image/png": "[encoded data removed]",
      "text/plain": [
       "<matplotlib.figure.Figure at 0x115d70940>"
      ]
     },
     "metadata": {},
     "output_type": "display_data"
    },
    {
     "data": {
      "image/png": "[encoded data removed]",
      "text/plain": [
       "<matplotlib.figure.Figure at 0x115e2ea20>"
      ]
     },
     "metadata": {},
     "output_type": "display_data"
    },
    {
     "data": {
      "image/png": "[encoded data removed]",
      "text/plain": [
       "<matplotlib.figure.Figure at 0x115f77fd0>"
      ]
     },
     "metadata": {},
     "output_type": "display_data"
    }
   ],
   "source": [
    "def plot_norm_histogram(x, mu, sigma, plot_title=''):\n",
    "    count, bins, ignored = plt.hist(x, 70, normed=True)\n",
    "    plt.plot(bins, 1/(sigma * np.sqrt(2 * np.pi)) * \n",
    "             np.exp(- (bins - mu)**2 / (2 * sigma**2)), linewidth=2, color='r')\n",
    "    plt.title(plot_title)\n",
    "    plt.show()\n",
    "plot_norm_histogram(y1, mu, sigma, 'Normal')\n",
    "plot_norm_histogram(y2, mu, sigma, 'Laplace')\n",
    "plot_norm_histogram(y3, mu, sigma, 'Cauchy')\n",
    "plot_norm_histogram(y4, mu, sigma, 'Log Normal')"
   ]
  },
  {
   "cell_type": "code",
   "execution_count": 10,
   "metadata": {},
   "outputs": [],
   "source": [
    "ad_y1 = stats.anderson(y1, 'norm')\n",
    "ad_y2 = stats.anderson(y2, 'norm')\n",
    "ad_y3 = stats.anderson(y3, 'norm')\n",
    "ad_y4 = stats.anderson(y4, 'norm')"
   ]
  },
  {
   "cell_type": "code",
   "execution_count": 10,
   "metadata": {
    "collapsed": true
   },
   "outputs": [
    {
     "data": {
      "text/html": [
       "<div>\n",
       "<table border=\"1\" class=\"dataframe\">\n",
       "  <thead>\n",
       "    <tr style=\"text-align: right;\">\n",
       "      <th></th>\n",
       "      <th>distribution</th>\n",
       "      <th>mean</th>\n",
       "      <th>statistic</th>\n",
       "    </tr>\n",
       "  </thead>\n",
       "  <tbody>\n",
       "    <tr>\n",
       "      <th>0</th>\n",
       "      <td>normal</td>\n",
       "      <td>0.000673</td>\n",
       "      <td>0.275203</td>\n",
       "    </tr>\n",
       "    <tr>\n",
       "      <th>1</th>\n",
       "      <td>laplace</td>\n",
       "      <td>0.015262</td>\n",
       "      <td>12.031342</td>\n",
       "    </tr>\n",
       "    <tr>\n",
       "      <th>2</th>\n",
       "      <td>cauchy</td>\n",
       "      <td>0.890131</td>\n",
       "      <td>inf</td>\n",
       "    </tr>\n",
       "    <tr>\n",
       "      <th>3</th>\n",
       "      <td>lognormal</td>\n",
       "      <td>1.728999</td>\n",
       "      <td>inf</td>\n",
       "    </tr>\n",
       "  </tbody>\n",
       "</table>\n",
       "</div>"
      ],
      "text/plain": [
       "<div>\n",
       "<table border=\"1\" class=\"dataframe\">\n",
       "  <thead>\n",
       "    <tr style=\"text-align: right;\">\n",
       "      <th></th>\n",
       "      <th>distribution</th>\n",
       "      <th>mean</th>\n",
       "      <th>statistic</th>\n",
       "    </tr>\n",
       "  </thead>\n",
       "  <tbody>\n",
       "    <tr>\n",
       "      <th>0</th>\n",
       "      <td>normal</td>\n",
       "      <td>0.000673</td>\n",
       "      <td>0.275203</td>\n",
       "    </tr>\n",
       "    <tr>\n",
       "      <th>1</th>\n",
       "      <td>laplace</td>\n",
       "      <td>0.015262</td>\n",
       "      <td>12.031342</td>\n",
       "    </tr>\n",
       "    <tr>\n",
       "      <th>2</th>\n",
       "      <td>cauchy</td>\n",
       "      <td>0.890131</td>\n",
       "      <td>inf</td>\n",
       "    </tr>\n",
       "    <tr>\n",
       "      <th>3</th>\n",
       "      <td>lognormal</td>\n",
       "      <td>1.728999</td>\n",
       "      <td>inf</td>\n",
       "    </tr>\n",
       "  </tbody>\n",
       "</table>\n",
       "</div>"
      ]
     },
     "execution_count": 10,
     "metadata": {},
     "output_type": "execute_result"
    }
   ],
   "source": [
    "pd.DataFrame({'distribution': ['normal', 'laplace', 'cauchy', 'lognormal'], \n",
    "              'statistic': [ad_y1.statistic, ad_y2.statistic, ad_y3.statistic, ad_y4.statistic],\n",
    "              'mean': [np.mean(y1), np.mean(y2), np.mean(y3), np.mean(y4)]})"
   ]
  }
 ],
 "metadata": {
  "kernelspec": {
   "display_name": "Python 2",
   "language": "python",
   "name": "python2"
  },
  "language_info": {
   "codemirror_mode": {
    "name": "ipython",
    "version": 2.0
   },
   "file_extension": ".py",
   "mimetype": "text/x-python",
   "name": "python",
   "nbconvert_exporter": "python",
   "pygments_lexer": "ipython2",
   "version": "2.7.6"
  }
 },
 "nbformat": 4,
 "nbformat_minor": 0
}